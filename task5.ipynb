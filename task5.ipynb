{
 "cells": [
  {
   "cell_type": "markdown",
   "source": [
    "Для набора значений в приложенном файле data.xlsх\n",
    "\n",
    "Провести аппроксимацию данных функцией вида: $\\exp\\left(-\\frac{x^2}{s^2}\\right)$\n",
    "\n",
    "По результатам аппроксимации определить среднеквадратическое отклонение s. Построить графики. Определить простое среднее значение функции в интервале значений х. Вычислить производную и интеграл от функции, значения которой определены в столбце у. Определить область экстремума. Рекомендации: в библиотеке scipy.optimize содержится набор функций для проведения процедуры аппроксимации."
   ],
   "metadata": {
    "collapsed": false
   }
  },
  {
   "cell_type": "code",
   "execution_count": 3,
   "metadata": {
    "collapsed": true
   },
   "outputs": [],
   "source": [
    "import pandas as pd\n",
    "import numpy as np\n",
    "import scipy\n",
    "import matplotlib.pyplot as plt"
   ]
  },
  {
   "cell_type": "code",
   "execution_count": null,
   "outputs": [],
   "source": [],
   "metadata": {
    "collapsed": false
   }
  }
 ],
 "metadata": {
  "kernelspec": {
   "display_name": "Python 3",
   "language": "python",
   "name": "python3"
  },
  "language_info": {
   "codemirror_mode": {
    "name": "ipython",
    "version": 2
   },
   "file_extension": ".py",
   "mimetype": "text/x-python",
   "name": "python",
   "nbconvert_exporter": "python",
   "pygments_lexer": "ipython2",
   "version": "2.7.6"
  }
 },
 "nbformat": 4,
 "nbformat_minor": 0
}
